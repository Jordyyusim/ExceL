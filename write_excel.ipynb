{
 "cells": [
  {
   "cell_type": "markdown",
   "metadata": {},
   "source": [
    "# __WRITE EXCEL__\n",
    "<HR>\n",
    "<HR>"
   ]
  },
  {
   "cell_type": "markdown",
   "metadata": {},
   "source": [
    "##### py -m pip install xlsxwriter"
   ]
  },
  {
   "cell_type": "code",
   "execution_count": null,
   "metadata": {},
   "outputs": [],
   "source": [
    "import xlsxwriter"
   ]
  },
  {
   "cell_type": "code",
   "execution_count": null,
   "metadata": {},
   "outputs": [],
   "source": [
    "book = xlsxwriter.Workbook('1.xlsx')\n",
    "sheet = book.add_worksheet('halaman1')\n",
    "\n",
    "data = [\n",
    "    [1, 'Andi', 'Jakarta'],\n",
    "    [2, 'Budi', 'Jakarta'],\n",
    "]\n",
    "row = 0\n",
    "for no, nama, kota in data:\n",
    "    sheet.write(row, 0, no)\n",
    "    sheet.write(row, 1, nama)\n",
    "    sheet.write(row, 2, kota)\n",
    "    row += 1\n",
    "\n",
    "book.close()"
   ]
  }
 ],
 "metadata": {
  "kernelspec": {
   "display_name": "Python 3",
   "language": "python",
   "name": "python3"
  },
  "language_info": {
   "codemirror_mode": {
    "name": "ipython",
    "version": 3
   },
   "file_extension": ".py",
   "mimetype": "text/x-python",
   "name": "python",
   "nbconvert_exporter": "python",
   "pygments_lexer": "ipython3",
   "version": "3.8.1"
  }
 },
 "nbformat": 4,
 "nbformat_minor": 4
}

{
 "cells": [
  {
   "cell_type": "markdown",
   "metadata": {},
   "source": [
    "# __READ EXCEL__\n",
    "<HR>\n",
    "<HR>"
   ]
  },
  {
   "cell_type": "markdown",
   "metadata": {},
   "source": [
    "##### pip install xlrd\n",
    "##### pip3 install xlrd\n",
    "##### py -m pip install xlrd\n",
    "##### python3 -m pip install xlrd\n",
    "\n",
    "##### pip list => untuk cek library di py\n",
    "##### py -m pip list"
   ]
  },
  {
   "cell_type": "code",
   "execution_count": 1,
   "metadata": {},
   "outputs": [],
   "source": [
    "import xlrd"
   ]
  },
  {
   "cell_type": "markdown",
   "metadata": {},
   "source": [
    "##### Decide the excel sheet by its index\n",
    "##### .cell_value(row, column)"
   ]
  },
  {
   "cell_type": "code",
   "execution_count": null,
   "metadata": {},
   "outputs": [],
   "source": [
    "# book = xlrd.open_workbook('55.xlsx') \n",
    "# sheet = book.sheet_by_index(0)\n",
    "# print(sheet.nrows)\n",
    "# print(sheet.ncols)\n",
    "# print(sheet.cell_value(2, 1)) "
   ]
  },
  {
   "cell_type": "markdown",
   "metadata": {},
   "source": [
    "##### Decide the excel sheet by its name"
   ]
  },
  {
   "cell_type": "code",
   "execution_count": null,
   "metadata": {},
   "outputs": [],
   "source": [
    "# sheet = book.sheet_by_name('halaman1')\n",
    "# print(sheet.nrows)\n",
    "# print(sheet.ncols)\n",
    "# print(sheet.cell_value(2, 1))"
   ]
  },
  {
   "cell_type": "code",
   "execution_count": null,
   "metadata": {},
   "outputs": [],
   "source": [
    "# no = []\n",
    "# nama = []\n",
    "# usia = []\n",
    "# kota = []\n",
    "# for i in range(1, sheet.nrows):\n",
    "#     no.append(sheet.cell_value(i, 0))\n",
    "#     nama.append(sheet.cell_value(i, 1))\n",
    "#     usia.append(sheet.cell_value(i, 2))\n",
    "#     kota.append(sheet.cell_value(i, 3)\n",
    "# #print(no, nama, usia, kota)\n",
    "# data = list(zip(no, nama, usia, kota))\n",
    "# print(data)"
   ]
  },
  {
   "cell_type": "code",
   "execution_count": null,
   "metadata": {},
   "outputs": [],
   "source": [
    "# data = []\n",
    "# for i in range(1, sheet.nrows):\n",
    "#     new =[]\n",
    "#     for j in range(sheet.ncols):\n",
    "#         new.append(sheet.cell_value(i, j))\n",
    "#     data.append(tuple(new))\n",
    "# print(data)"
   ]
  },
  {
   "cell_type": "code",
   "execution_count": null,
   "metadata": {},
   "outputs": [],
   "source": [
    "# for i in range(sheet.nrows):\n",
    "#     print(sheet.row_values(i))"
   ]
  }
 ],
 "metadata": {
  "kernelspec": {
   "display_name": "Python 3",
   "language": "python",
   "name": "python3"
  },
  "language_info": {
   "codemirror_mode": {
    "name": "ipython",
    "version": 3
   },
   "file_extension": ".py",
   "mimetype": "text/x-python",
   "name": "python",
   "nbconvert_exporter": "python",
   "pygments_lexer": "ipython3",
   "version": "3.8.1"
  }
 },
 "nbformat": 4,
 "nbformat_minor": 4
}
